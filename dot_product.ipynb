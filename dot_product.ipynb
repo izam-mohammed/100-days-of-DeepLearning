{
 "cells": [
  {
   "cell_type": "code",
   "execution_count": 1,
   "id": "507d5269",
   "metadata": {},
   "outputs": [],
   "source": [
    "import numpy as np\n"
   ]
  },
  {
   "cell_type": "code",
   "execution_count": 2,
   "id": "840df4df",
   "metadata": {},
   "outputs": [],
   "source": [
    "a = np.array([[1500,511,255]])\n",
    "b = np.array([[30,40,50],[40,2,5],[25,45,42]])"
   ]
  },
  {
   "cell_type": "code",
   "execution_count": 3,
   "id": "9309c980",
   "metadata": {},
   "outputs": [
    {
     "data": {
      "text/plain": [
       "array([[71815, 72497, 88265]])"
      ]
     },
     "execution_count": 3,
     "metadata": {},
     "output_type": "execute_result"
    }
   ],
   "source": [
    "np.dot(a,b)"
   ]
  },
  {
   "cell_type": "code",
   "execution_count": null,
   "id": "ff58a5ff",
   "metadata": {},
   "outputs": [],
   "source": []
  }
 ],
 "metadata": {
  "kernelspec": {
   "display_name": "Python 3 (ipykernel)",
   "language": "python",
   "name": "python3"
  },
  "language_info": {
   "codemirror_mode": {
    "name": "ipython",
    "version": 3
   },
   "file_extension": ".py",
   "mimetype": "text/x-python",
   "name": "python",
   "nbconvert_exporter": "python",
   "pygments_lexer": "ipython3",
   "version": "3.10.6"
  }
 },
 "nbformat": 4,
 "nbformat_minor": 5
}
