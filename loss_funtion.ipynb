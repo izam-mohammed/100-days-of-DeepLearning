{
 "cells": [
  {
   "cell_type": "code",
   "execution_count": 1,
   "id": "f48eccfb",
   "metadata": {},
   "outputs": [],
   "source": [
    "import numpy as np\n",
    "\n",
    "y_predicted = np.array([1,1,0,0,1])\n",
    "y_true = np.array([0.3,0.7,1,0,0.5])"
   ]
  },
  {
   "cell_type": "code",
   "execution_count": 4,
   "id": "53144260",
   "metadata": {},
   "outputs": [],
   "source": [
    "def mean_absolute_error(y_true,y_pred):\n",
    "    total_error = 0\n",
    "    for yt, yp in zip(y_true,y_pred):\n",
    "        total_error += abs(yt - yp)\n",
    "    print('Total error : ', total_error)\n",
    "    \n",
    "    mae = total_error / len(y_pred)\n",
    "    print (mae)"
   ]
  },
  {
   "cell_type": "code",
   "execution_count": 5,
   "id": "58e9ca18",
   "metadata": {},
   "outputs": [
    {
     "name": "stdout",
     "output_type": "stream",
     "text": [
      "Total error :  2.5\n",
      "0.5\n"
     ]
    }
   ],
   "source": [
    "mean_absolute_error(y_true,y_predicted)"
   ]
  },
  {
   "cell_type": "code",
   "execution_count": 6,
   "id": "db6e578e",
   "metadata": {},
   "outputs": [
    {
     "data": {
      "text/plain": [
       "0.5"
      ]
     },
     "execution_count": 6,
     "metadata": {},
     "output_type": "execute_result"
    }
   ],
   "source": [
    "np.mean(np.abs(y_predicted - y_true))"
   ]
  },
  {
   "cell_type": "code",
   "execution_count": 11,
   "id": "ebd00ba1",
   "metadata": {
    "scrolled": true
   },
   "outputs": [
    {
     "data": {
      "text/plain": [
       "'Mean squared error'"
      ]
     },
     "execution_count": 11,
     "metadata": {},
     "output_type": "execute_result"
    }
   ],
   "source": [
    "'Mean squared error'"
   ]
  },
  {
   "cell_type": "code",
   "execution_count": 13,
   "id": "ef41bd76",
   "metadata": {},
   "outputs": [
    {
     "data": {
      "text/plain": [
       "0.366"
      ]
     },
     "execution_count": 13,
     "metadata": {},
     "output_type": "execute_result"
    }
   ],
   "source": [
    "np.mean(np.square(y_true - y_predicted))"
   ]
  },
  {
   "cell_type": "code",
   "execution_count": null,
   "id": "b056297a",
   "metadata": {},
   "outputs": [],
   "source": []
  },
  {
   "cell_type": "code",
   "execution_count": 14,
   "id": "49096246",
   "metadata": {},
   "outputs": [],
   "source": [
    "eplison = 1e-15"
   ]
  },
  {
   "cell_type": "code",
   "execution_count": 15,
   "id": "f1ddb699",
   "metadata": {},
   "outputs": [],
   "source": [
    "y_predicted_new = [max(i,eplison) for i in y_predicted]"
   ]
  },
  {
   "cell_type": "code",
   "execution_count": 16,
   "id": "8f619898",
   "metadata": {},
   "outputs": [
    {
     "data": {
      "text/plain": [
       "[1, 1, 1e-15, 1e-15, 1]"
      ]
     },
     "execution_count": 16,
     "metadata": {},
     "output_type": "execute_result"
    }
   ],
   "source": [
    "y_predicted_new"
   ]
  },
  {
   "cell_type": "code",
   "execution_count": 17,
   "id": "b83eebe4",
   "metadata": {},
   "outputs": [],
   "source": [
    "y_predicted_new = [min(i,1 - eplison) for i in y_predicted_new]"
   ]
  },
  {
   "cell_type": "code",
   "execution_count": 18,
   "id": "586d62fe",
   "metadata": {},
   "outputs": [
    {
     "data": {
      "text/plain": [
       "[0.999999999999999, 0.999999999999999, 1e-15, 1e-15, 0.999999999999999]"
      ]
     },
     "execution_count": 18,
     "metadata": {},
     "output_type": "execute_result"
    }
   ],
   "source": [
    "y_predicted_new"
   ]
  },
  {
   "cell_type": "code",
   "execution_count": 19,
   "id": "cbc69f05",
   "metadata": {},
   "outputs": [],
   "source": [
    "y_predicted_new = np.array(y_predicted_new)"
   ]
  },
  {
   "cell_type": "code",
   "execution_count": 20,
   "id": "558d97fd",
   "metadata": {},
   "outputs": [
    {
     "data": {
      "text/plain": [
       "array([-9.99200722e-16, -9.99200722e-16, -3.45387764e+01, -3.45387764e+01,\n",
       "       -9.99200722e-16])"
      ]
     },
     "execution_count": 20,
     "metadata": {},
     "output_type": "execute_result"
    }
   ],
   "source": [
    "np.log(y_predicted_new)"
   ]
  },
  {
   "cell_type": "code",
   "execution_count": 21,
   "id": "d43794c7",
   "metadata": {},
   "outputs": [],
   "source": [
    "def log_loss(y_true, y_predicted):\n",
    "    return -1* np.mean(y_true*np.log(y_predicted)+(1-y_true)*np.log(1-y_predicted))"
   ]
  },
  {
   "cell_type": "code",
   "execution_count": 22,
   "id": "83c69320",
   "metadata": {},
   "outputs": [
    {
     "data": {
      "text/plain": [
       "17.2696280766844"
      ]
     },
     "execution_count": 22,
     "metadata": {},
     "output_type": "execute_result"
    }
   ],
   "source": [
    "log_loss(y_true,y_predicted_new)"
   ]
  },
  {
   "cell_type": "code",
   "execution_count": null,
   "id": "376f5010",
   "metadata": {},
   "outputs": [],
   "source": []
  }
 ],
 "metadata": {
  "kernelspec": {
   "display_name": "Python 3 (ipykernel)",
   "language": "python",
   "name": "python3"
  },
  "language_info": {
   "codemirror_mode": {
    "name": "ipython",
    "version": 3
   },
   "file_extension": ".py",
   "mimetype": "text/x-python",
   "name": "python",
   "nbconvert_exporter": "python",
   "pygments_lexer": "ipython3",
   "version": "3.10.6"
  }
 },
 "nbformat": 4,
 "nbformat_minor": 5
}
